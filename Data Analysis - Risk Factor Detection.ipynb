{
 "cells": [
  {
   "cell_type": "code",
   "execution_count": 6,
   "id": "5fdcaf9f",
   "metadata": {},
   "outputs": [
    {
     "name": "stdout",
     "output_type": "stream",
     "text": [
      "Collecting pymupdf\n",
      "  Downloading PyMuPDF-1.24.7-cp311-none-win_amd64.whl.metadata (3.4 kB)\n",
      "Collecting PyMuPDFb==1.24.6 (from pymupdf)\n",
      "  Downloading PyMuPDFb-1.24.6-py3-none-win_amd64.whl.metadata (1.4 kB)\n",
      "Downloading PyMuPDF-1.24.7-cp311-none-win_amd64.whl (3.2 MB)\n",
      "   ---------------------------------------- 0.0/3.2 MB ? eta -:--:--\n",
      "    --------------------------------------- 0.0/3.2 MB 1.9 MB/s eta 0:00:02\n",
      "   -- ------------------------------------- 0.2/3.2 MB 2.0 MB/s eta 0:00:02\n",
      "   ----- ---------------------------------- 0.4/3.2 MB 3.4 MB/s eta 0:00:01\n",
      "   --------- ------------------------------ 0.8/3.2 MB 4.3 MB/s eta 0:00:01\n",
      "   ------------- -------------------------- 1.1/3.2 MB 5.3 MB/s eta 0:00:01\n",
      "   ----------------- ---------------------- 1.4/3.2 MB 5.2 MB/s eta 0:00:01\n",
      "   ---------------------------- ----------- 2.3/3.2 MB 7.6 MB/s eta 0:00:01\n",
      "   --------------------------------- ------ 2.7/3.2 MB 7.8 MB/s eta 0:00:01\n",
      "   ---------------------------------------  3.2/3.2 MB 8.1 MB/s eta 0:00:01\n",
      "   ---------------------------------------- 3.2/3.2 MB 7.9 MB/s eta 0:00:00\n",
      "Downloading PyMuPDFb-1.24.6-py3-none-win_amd64.whl (12.5 MB)\n",
      "   ---------------------------------------- 0.0/12.5 MB ? eta -:--:--\n",
      "   - -------------------------------------- 0.4/12.5 MB 13.4 MB/s eta 0:00:01\n",
      "   -- ------------------------------------- 0.9/12.5 MB 13.5 MB/s eta 0:00:01\n",
      "   ---- ----------------------------------- 1.4/12.5 MB 12.2 MB/s eta 0:00:01\n",
      "   ----- ---------------------------------- 1.8/12.5 MB 12.9 MB/s eta 0:00:01\n",
      "   ------- -------------------------------- 2.4/12.5 MB 12.6 MB/s eta 0:00:01\n",
      "   --------- ------------------------------ 3.0/12.5 MB 11.8 MB/s eta 0:00:01\n",
      "   ----------- ---------------------------- 3.5/12.5 MB 11.9 MB/s eta 0:00:01\n",
      "   ------------- -------------------------- 4.1/12.5 MB 11.8 MB/s eta 0:00:01\n",
      "   -------------- ------------------------- 4.7/12.5 MB 11.9 MB/s eta 0:00:01\n",
      "   ---------------- ----------------------- 5.2/12.5 MB 11.9 MB/s eta 0:00:01\n",
      "   ------------------ --------------------- 5.8/12.5 MB 11.9 MB/s eta 0:00:01\n",
      "   -------------------- ------------------- 6.3/12.5 MB 11.9 MB/s eta 0:00:01\n",
      "   -------------------- ------------------- 6.5/12.5 MB 12.1 MB/s eta 0:00:01\n",
      "   -------------------- ------------------- 6.5/12.5 MB 12.1 MB/s eta 0:00:01\n",
      "   -------------------- ------------------- 6.5/12.5 MB 12.1 MB/s eta 0:00:01\n",
      "   -------------------------- ------------- 8.2/12.5 MB 11.6 MB/s eta 0:00:01\n",
      "   --------------------------- ------------ 8.5/12.5 MB 11.4 MB/s eta 0:00:01\n",
      "   ----------------------------- ---------- 9.0/12.5 MB 11.5 MB/s eta 0:00:01\n",
      "   ------------------------------ --------- 9.4/12.5 MB 11.4 MB/s eta 0:00:01\n",
      "   ------------------------------- -------- 9.9/12.5 MB 11.4 MB/s eta 0:00:01\n",
      "   --------------------------------- ------ 10.3/12.5 MB 11.3 MB/s eta 0:00:01\n",
      "   ---------------------------------- ----- 10.7/12.5 MB 11.1 MB/s eta 0:00:01\n",
      "   ----------------------------------- ---- 11.2/12.5 MB 11.3 MB/s eta 0:00:01\n",
      "   ------------------------------------- -- 11.6/12.5 MB 11.1 MB/s eta 0:00:01\n",
      "   -------------------------------------- - 12.1/12.5 MB 11.1 MB/s eta 0:00:01\n",
      "   ---------------------------------------  12.5/12.5 MB 11.1 MB/s eta 0:00:01\n",
      "   ---------------------------------------- 12.5/12.5 MB 10.7 MB/s eta 0:00:00\n",
      "Installing collected packages: PyMuPDFb, pymupdf\n",
      "Successfully installed PyMuPDFb-1.24.6 pymupdf-1.24.7\n",
      "Note: you may need to restart the kernel to use updated packages.\n"
     ]
    },
    {
     "name": "stderr",
     "output_type": "stream",
     "text": [
      "\n",
      "[notice] A new release of pip is available: 24.0 -> 24.1.1\n",
      "[notice] To update, run: python.exe -m pip install --upgrade pip\n"
     ]
    }
   ],
   "source": [
    "pip install pymupdf"
   ]
  },
  {
   "cell_type": "code",
   "execution_count": 7,
   "id": "1f1c8b20",
   "metadata": {},
   "outputs": [
    {
     "name": "stdout",
     "output_type": "stream",
     "text": [
      "Text extraction complete.\n"
     ]
    }
   ],
   "source": [
    "import fitz  # PyMuPDF\n",
    "\n",
    "def extract_text_from_pdf(pdf_path):\n",
    "    doc = fitz.open(pdf_path)\n",
    "    text = \"\"\n",
    "    for page_num in range(doc.page_count):\n",
    "        page = doc.load_page(page_num)\n",
    "        text += page.get_text(\"text\")\n",
    "    return text\n",
    "\n",
    "# Paths to the PDF files\n",
    "alphabet_pdf_path = \"C:/Users/pooja/Downloads/goog-10-k-2023 (1).pdf\"\n",
    "tesla_pdf_path = \"C:/Users/pooja/Downloads/tsla-20231231-gen.pdf\"\n",
    "uber_pdf_path = \"C:/Users/pooja/Downloads/uber-10-k-2023.pdf\"\n",
    "\n",
    "# Extracting text from each PDF\n",
    "alphabet_text = extract_text_from_pdf(alphabet_pdf_path)\n",
    "tesla_text = extract_text_from_pdf(tesla_pdf_path)\n",
    "uber_text = extract_text_from_pdf(uber_pdf_path)\n",
    "\n",
    "# Saving the extracted text to files for easier inspection and use\n",
    "with open(\"alphabet_10k_text.txt\", \"w\", encoding=\"utf-8\") as f:\n",
    "    f.write(alphabet_text)\n",
    "\n",
    "with open(\"tesla_10k_text.txt\", \"w\", encoding=\"utf-8\") as f:\n",
    "    f.write(tesla_text)\n",
    "\n",
    "with open(\"uber_10k_text.txt\", \"w\", encoding=\"utf-8\") as f:\n",
    "    f.write(uber_text)\n",
    "\n",
    "print(\"Text extraction complete.\")"
   ]
  },
  {
   "cell_type": "code",
   "execution_count": 8,
   "id": "411c19ec",
   "metadata": {},
   "outputs": [
    {
     "name": "stdout",
     "output_type": "stream",
     "text": [
      "Text organization into sections complete.\n"
     ]
    }
   ],
   "source": [
    "import re\n",
    "\n",
    "def split_into_sections(text, sections):\n",
    "    section_dict = {}\n",
    "    for i in range(len(sections) - 1):\n",
    "        pattern = f'{sections[i]}(.*?)(?={sections[i+1]})'\n",
    "        match = re.search(pattern, text, re.DOTALL | re.IGNORECASE)\n",
    "        if match:\n",
    "            section_dict[sections[i]] = match.group(1).strip()\n",
    "    # Handling the last section separately\n",
    "    last_section = sections[-1]\n",
    "    last_pattern = f'{last_section}(.*)'\n",
    "    last_match = re.search(last_pattern, text, re.DOTALL | re.IGNORECASE)\n",
    "    if last_match:\n",
    "        section_dict[last_section] = last_match.group(1).strip()\n",
    "    return section_dict\n",
    "\n",
    "sections = [\n",
    "    \"Item 1. Business\", \n",
    "    \"Item 1A. Risk Factors\", \n",
    "    \"Item 2. Properties\", \n",
    "    \"Item 3. Legal Proceedings\", \n",
    "    \"Item 4. Mine Safety Disclosures\",\n",
    "    \"Item 5. Market for Registrant's Common Equity\",\n",
    "    \"Item 6. Selected Financial Data\",\n",
    "    \"Item 7. Management's Discussion and Analysis\",\n",
    "    \"Item 8. Financial Statements and Supplementary Data\"\n",
    "]\n",
    "\n",
    "# Split each document into sections\n",
    "alphabet_sections = split_into_sections(alphabet_text, sections)\n",
    "tesla_sections = split_into_sections(tesla_text, sections)\n",
    "uber_sections = split_into_sections(uber_text, sections)\n",
    "\n",
    "print(\"Text organization into sections complete.\")"
   ]
  },
  {
   "cell_type": "code",
   "execution_count": 10,
   "id": "1f9d14f0",
   "metadata": {},
   "outputs": [
    {
     "name": "stdout",
     "output_type": "stream",
     "text": [
      "Content analysis complete.\n",
      "\n",
      "Alphabet's Risk Factors (sample):\n",
      "\n",
      "\n",
      "Tesla's Risk Factors (sample):\n",
      "You should carefully consider the risks described below together with the other information set forth in this report, which could materially affect our\n",
      "business, financial condition and future results.\n",
      "The risks described below are not the only risks facing our company.\n",
      "Risks and uncertainties not currently\n",
      "known to us or that we currently deem to be immaterial also may materially adversely affect our business, financial condition and operating results.\n",
      "\n",
      "Risks Related to Our Ability to Grow Our Business\n",
      "\n",
      "Risks Related to Our Operations\n",
      "We may experience issues with lithium-ion cells or other components manufactured at our Gigafactories, which may harm the\n",
      "production and profitability of our vehicle and energy storage products.\n",
      "\n",
      "\n",
      "Common words in Tesla and Uber's business overviews (sample):\n",
      "[('and', 326), ('to', 185), ('our', 151), ('the', 151), ('of', 119), ('in', 110), ('a', 68), ('we', 67), ('We', 56), ('with', 55)]\n"
     ]
    }
   ],
   "source": [
    "import spacy\n",
    "from collections import Counter\n",
    "\n",
    "nlp = spacy.load(\"en_core_web_sm\")\n",
    "\n",
    "def get_risk_factors(section_text):\n",
    "    if section_text:\n",
    "        doc = nlp(section_text)\n",
    "        risk_factors = [sent.text for sent in doc.sents if \"risk\" in sent.text.lower()]\n",
    "        return risk_factors\n",
    "    return []\n",
    "\n",
    "def compare_business_overview(overview_text1, overview_text2):\n",
    "    if overview_text1 and overview_text2:\n",
    "        words1 = Counter(overview_text1.split())\n",
    "        words2 = Counter(overview_text2.split())\n",
    "        common_words = words1 & words2  # Intersection of word counts\n",
    "        return common_words\n",
    "    return {}\n",
    "\n",
    "# Example usage:\n",
    "# Assume `alphabet_sections`, `tesla_sections`, and `uber_sections` are dictionaries containing\n",
    "# the text of the different sections of the respective 10-K reports.\n",
    "\n",
    "# Extract risk factors for Alphabet and Tesla\n",
    "alphabet_risk_factors = get_risk_factors(alphabet_sections.get(\"Item 1A. Risk Factors\", \"\"))\n",
    "tesla_risk_factors = get_risk_factors(tesla_sections.get(\"Item 1A. Risk Factors\", \"\"))\n",
    "\n",
    "# Compare business overviews of Tesla and Uber\n",
    "tesla_business_overview = tesla_sections.get(\"Item 1. Business\", \"\")\n",
    "uber_business_overview = uber_sections.get(\"Item 1. Business\", \"\")\n",
    "common_business_words = compare_business_overview(tesla_business_overview, uber_business_overview)\n",
    "\n",
    "print(\"Content analysis complete.\")\n",
    "\n",
    "# Output results for verification\n",
    "print(\"\\nAlphabet's Risk Factors (sample):\")\n",
    "print(\"\\n\".join(alphabet_risk_factors[:5]))  # Show the first 5 risk factors\n",
    "\n",
    "print(\"\\nTesla's Risk Factors (sample):\")\n",
    "print(\"\\n\".join(tesla_risk_factors[:5]))  # Show the first 5 risk factors\n",
    "\n",
    "print(\"\\nCommon words in Tesla and Uber's business overviews (sample):\")\n",
    "print(common_business_words.most_common(10))  # Show the top 10 common words"
   ]
  },
  {
   "cell_type": "code",
   "execution_count": 12,
   "id": "1c1e0b3d",
   "metadata": {},
   "outputs": [],
   "source": [
    "def chatbot():\n",
    "    while True:\n",
    "        query = input(\"Ask your question (type 'exit' to quit): \").lower()\n",
    "        if query == \"exit\":\n",
    "            break\n",
    "        elif \"risk factors\" in query:\n",
    "            print(\"\\nGoogle's Risk Factors:\\n\", \"\\n\".join(alphabet_risk_factors[:5]), \"\\n\")  # Showing only the first 5 for brevity\n",
    "            print(\"Tesla's Risk Factors:\\n\", \"\\n\".join(tesla_risk_factors[:5]), \"\\n\")\n",
    "        elif \"total revenue\" in query:\n",
    "            print(\"Total revenue data extraction not implemented yet.\")\n",
    "        elif \"business overview\" in query:\n",
    "            print(\"Common words in Tesla and Uber's business overview:\\n\", common_business_words.most_common(10), \"\\n\")\n",
    "        else:\n",
    "            print(\"I'm sorry, I don't understand the question. Try asking about risk factors or business overviews.\")\n",
    "\n",
    "# Example usage:\n",
    "# chatbot()"
   ]
  },
  {
   "cell_type": "code",
   "execution_count": null,
   "id": "0acb620d",
   "metadata": {},
   "outputs": [],
   "source": []
  }
 ],
 "metadata": {
  "kernelspec": {
   "display_name": "Python 3 (ipykernel)",
   "language": "python",
   "name": "python3"
  },
  "language_info": {
   "codemirror_mode": {
    "name": "ipython",
    "version": 3
   },
   "file_extension": ".py",
   "mimetype": "text/x-python",
   "name": "python",
   "nbconvert_exporter": "python",
   "pygments_lexer": "ipython3",
   "version": "3.11.4"
  }
 },
 "nbformat": 4,
 "nbformat_minor": 5
}
